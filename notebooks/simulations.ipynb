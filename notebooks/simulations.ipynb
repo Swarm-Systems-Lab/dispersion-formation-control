{
 "cells": [
  {
   "cell_type": "code",
   "execution_count": null,
   "metadata": {},
   "outputs": [],
   "source": [
    "# Import all the requiered dependencies\n",
    "import numpy as np\n",
    "import os\n",
    "import sys\n",
    "from tqdm import tqdm\n",
    "\n",
    "# Graphic tools\n",
    "import matplotlib.pyplot as plt\n",
    "\n",
    "# Animation tools\n",
    "from IPython.display import HTML\n",
    "from matplotlib.animation import PillowWriter\n",
    "\n",
    "# Tools from Swarm Systems Lab simulator\n",
    "from ssl_simulator import createDir\n",
    "from ssl_simulator.math import uniform_distrib, R_2D_matrix, gen_Z_random\n",
    "from ssl_simulator.visualization import set_paper_parameters\n",
    "\n",
    "set_paper_parameters(fontsize=12)\n",
    "\n",
    "# --------------------------------------------------------------------------------------\n",
    "\n",
    "# Python project to path \n",
    "module_path = os.path.abspath(os.path.join('..'))\n",
    "if module_path not in sys.path:\n",
    "    sys.path.append(module_path)\n",
    "\n",
    "# Import the main module of the project\n",
    "import dfc as dfc\n",
    "\n",
    "# Output directory\n",
    "OUTPUT_PATH = os.path.join(\"..\", \"output\")\n",
    "createDir(OUTPUT_PATH)"
   ]
  },
  {
   "cell_type": "markdown",
   "metadata": {},
   "source": [
    "## Centralized simulation"
   ]
  },
  {
   "cell_type": "code",
   "execution_count": null,
   "metadata": {},
   "outputs": [],
   "source": [
    "# Generate the robots distribution and set the initial positions\n",
    "N = 70\n",
    "lims = [1, 2]\n",
    "rc0 = [0, 0]\n",
    "\n",
    "p0 = uniform_distrib(N=N, lims=lims, rc0=rc0, seed=2024)\n",
    "\n",
    "# Generating the simulator class\n",
    "dt = 0.01\n",
    "lambda_d = [10, 5]\n",
    "ke = 0.2\n",
    "\n",
    "sim = dfc.Simulator(p0=p0, dt=dt, lambda_d=lambda_d, ke=ke)\n",
    "\n",
    "# ----------------------------------------------------------------------\n",
    "# Execute the simulation given a desired final time stamp\n",
    "# ----------------------------------------------------------------------\n",
    "tf = 2.5\n",
    "\n",
    "t_list = np.arange(0, tf, dt)\n",
    "for it in tqdm(range(len(t_list))):\n",
    "    sim.int_euler()"
   ]
  },
  {
   "cell_type": "code",
   "execution_count": null,
   "metadata": {},
   "outputs": [],
   "source": [
    "dfc.plot_centralized(sim, lim=11, dpi=100, figsize=(12,7))"
   ]
  },
  {
   "cell_type": "code",
   "execution_count": null,
   "metadata": {},
   "outputs": [],
   "source": [
    "animator = dfc.AnimBasic(sim, lim=11, agent_r=0.1, tail_alpha=0.7)\n",
    "\n",
    "# -- MP4 \n",
    "anim = animator.gen_animation()\n",
    "HTML(anim.to_html5_video()) # It takes a loooot of time...\n",
    "\n",
    "# -- GIF\n",
    "# writer = PillowWriter(fps=15, bitrate=1800)\n",
    "# anim.save(os.path.join(OUTPUT_FOLDER, \"test.gif\"),\n",
    "#         writer = writer)"
   ]
  },
  {
   "cell_type": "markdown",
   "metadata": {},
   "source": [
    "## Distributed simulation"
   ]
  },
  {
   "cell_type": "code",
   "execution_count": null,
   "metadata": {},
   "outputs": [],
   "source": [
    "# Generate the robots distribution and set the initial positions\n",
    "N = 70\n",
    "lims = [2, 2]\n",
    "rc0 = [0, 1]\n",
    "\n",
    "p0 = uniform_distrib(N=N, lims=lims, rc0=rc0, seed=2024)\n",
    "\n",
    "# Generate the graph\n",
    "Z = gen_Z_random(N, rounds=3, seed=2024)\n",
    "\n",
    "# Generating the simulator class\n",
    "dt = 0.01\n",
    "lambda_d = [10, 4]\n",
    "ke = 0.2\n",
    "\n",
    "sim = dfc.SimulatorDistr(p0=p0, Z=Z, dt=dt, lambda_d=lambda_d, \n",
    "                     ke=ke, kpc=1, its_pc=8, kc=1, its_c=8)\n",
    "\n",
    "# Graph connectivity (lambda2)\n",
    "print(r\"$\\lambda_2$:\", sim.lambda_min)"
   ]
  },
  {
   "cell_type": "code",
   "execution_count": null,
   "metadata": {},
   "outputs": [],
   "source": [
    "# ----------------------------------------------------------------------\n",
    "# Execute the simulation given a desired final time stamp\n",
    "# ----------------------------------------------------------------------\n",
    "tf = 2.5\n",
    "\n",
    "t_list = np.arange(0, tf, dt)\n",
    "for it in tqdm(range(len(t_list))):\n",
    "    sim.int_euler()"
   ]
  },
  {
   "cell_type": "code",
   "execution_count": null,
   "metadata": {},
   "outputs": [],
   "source": [
    "dfc.plot_distributed(sim, lim=11, dpi=100, figsize=(10,5))\n",
    "# plot_distributed_small(sim, lim=11, dpi=400, figsize=(10,5))"
   ]
  },
  {
   "cell_type": "code",
   "execution_count": null,
   "metadata": {},
   "outputs": [],
   "source": [
    "animator = dfc.AnimBasic(sim, lim=7.5, agent_r=0.1, tail_alpha=0.7)\n",
    "\n",
    "# -- MP4 \n",
    "anim = animator.gen_animation()\n",
    "HTML(anim.to_html5_video()) # It takes a loooot of time...\n",
    "\n",
    "# -- GIF\n",
    "# writer = PillowWriter(fps=15, bitrate=1800)\n",
    "# anim.save(os.path.join(OUTPUT_FOLDER, \"test.gif\"),\n",
    "#         writer = writer)"
   ]
  },
  {
   "cell_type": "markdown",
   "metadata": {},
   "source": [
    "## Resilience simulation: robots orbit around the centroid"
   ]
  },
  {
   "cell_type": "code",
   "execution_count": null,
   "metadata": {},
   "outputs": [],
   "source": [
    "# Generate the robots distribution and set the initial positions\n",
    "N = 70\n",
    "lims = [2, 2]\n",
    "rc0 = [0, 0]\n",
    "\n",
    "p0 = uniform_distrib(N=N, lims=lims, rc0=rc0)\n",
    "\n",
    "# Generating the simulator class\n",
    "dt = 0.01\n",
    "lambda_d = [10, 5]\n",
    "ke = 0.2\n",
    "\n",
    "sim = dfc.Simulator(p0=p0, dt=dt, lambda_d=lambda_d, ke=ke)\n",
    "\n",
    "# ----------------------------------------------------------------------\n",
    "# Execute the simulation given a desired final time stamp\n",
    "# ----------------------------------------------------------------------\n",
    "tf = 10\n",
    "\n",
    "R1 = R_2D_matrix(np.pi/3*dt)\n",
    "R2 = R_2D_matrix(np.pi/2*dt)\n",
    "R3 = R_2D_matrix(np.pi/4*dt)\n",
    "R4 = R_2D_matrix(np.pi*dt)\n",
    "sim.active[N-4:N] = 0\n",
    "\n",
    "t_list = np.arange(0, tf, dt)\n",
    "for it in tqdm(range(len(t_list))):\n",
    "    sim.variables[\"p\"][-1] = (R1 @ sim.variables[\"p\"][-1][:,None]).squeeze()\n",
    "    sim.variables[\"p\"][-2] = (R2 @ sim.variables[\"p\"][-2][:,None]).squeeze()\n",
    "    sim.variables[\"p\"][-3] = (R3 @ sim.variables[\"p\"][-3][:,None]).squeeze()\n",
    "    sim.variables[\"p\"][-4] = (R4 @ sim.variables[\"p\"][-4][:,None]).squeeze()\n",
    "    sim.int_euler()"
   ]
  },
  {
   "cell_type": "code",
   "execution_count": null,
   "metadata": {},
   "outputs": [],
   "source": [
    "dfc.plot_resilience_osc(sim, lim=11, dpi=400, figsize=(10,5), t_sep=1)\n",
    "# plot_resilience_small(sim, lim=11, dpi=400, figsize=(10,5), t_sep=1)"
   ]
  },
  {
   "cell_type": "code",
   "execution_count": null,
   "metadata": {},
   "outputs": [],
   "source": [
    "animator = dfc.AnimBasic(sim, lim=7.5, agent_r=0.1, tail_alpha=0.7)\n",
    "\n",
    "# -- MP4 \n",
    "anim = animator.gen_animation()\n",
    "HTML(anim.to_html5_video()) # It takes a loooot of time...\n",
    "\n",
    "# -- GIF\n",
    "# writer = PillowWriter(fps=15, bitrate=1800)\n",
    "# anim.save(os.path.join(OUTPUT_FOLDER, \"test.gif\"),\n",
    "#         writer = writer)"
   ]
  },
  {
   "cell_type": "markdown",
   "metadata": {},
   "source": [
    "## Resilience simulation: robots disconnect during the mission"
   ]
  },
  {
   "cell_type": "code",
   "execution_count": null,
   "metadata": {},
   "outputs": [],
   "source": [
    "# Generate the robots distribution and set the initial positions\n",
    "N = 70\n",
    "lims = [3, 1]\n",
    "rc0 = [0, 1]\n",
    "\n",
    "p0 = uniform_distrib(N=N, lims=lims, rc0=rc0, seed=2024)\n",
    "\n",
    "# Generate the graph\n",
    "Z = gen_Z_random(N, rounds=3, seed=2024)\n",
    "\n",
    "# Generating the simulator class\n",
    "dt = 0.001\n",
    "lambda_d = [10, 4]\n",
    "\n",
    "sim = dfc.SimulatorDistrNew(p0=p0, Z=Z, dt=dt, lambda_d=lambda_d, \n",
    "                        ke=0.4, kpc=1, kc=1, epsilon_phat=1/4, epsilon_chat=1/16)\n",
    "\n",
    "# Graph connectivity (lambda2)\n",
    "print(r\"$\\lambda_0$:\", sim.lambda_min)"
   ]
  },
  {
   "cell_type": "code",
   "execution_count": null,
   "metadata": {},
   "outputs": [],
   "source": [
    "# ----------------------------------------------------------------------\n",
    "# Execute the simulation given a desired final time stamp\n",
    "# ----------------------------------------------------------------------\n",
    "tf = 3\n",
    "\n",
    "t_list = np.arange(0, tf, dt)\n",
    "for it in tqdm(range(len(t_list))):\n",
    "    if it > 0.3/dt:\n",
    "        sim.kill_agent(np.arange(0,5,1))\n",
    "    if it > 0.5/dt:\n",
    "        sim.kill_agent(np.arange(5,10,1))\n",
    "    if it > 1/dt:\n",
    "        sim.kill_agent(np.arange(10,15,1))\n",
    "    # print(sim.variables[\"p\"])\n",
    "    sim.int_euler()"
   ]
  },
  {
   "cell_type": "code",
   "execution_count": null,
   "metadata": {},
   "outputs": [],
   "source": [
    "# Generate the plot\n",
    "dfc.plot_resilience_paper(sim, lim=11, dpi=400, figsize=(10,5), t_sep=0.5)"
   ]
  }
 ],
 "metadata": {
  "kernelspec": {
   "display_name": "Python 3 (ipykernel)",
   "language": "python",
   "name": "python3"
  },
  "language_info": {
   "codemirror_mode": {
    "name": "ipython",
    "version": 3
   },
   "file_extension": ".py",
   "mimetype": "text/x-python",
   "name": "python",
   "nbconvert_exporter": "python",
   "pygments_lexer": "ipython3",
   "version": "3.10.12"
  },
  "orig_nbformat": 4
 },
 "nbformat": 4,
 "nbformat_minor": 2
}
