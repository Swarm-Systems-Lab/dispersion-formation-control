{
 "cells": [
  {
   "cell_type": "code",
   "execution_count": null,
   "metadata": {},
   "outputs": [],
   "source": [
    "# Import all the requiered dependencies\n",
    "import numpy as np\n",
    "import os\n",
    "import sys\n",
    "from tqdm import tqdm\n",
    "\n",
    "# Graphic tools\n",
    "import matplotlib.pyplot as plt\n",
    "\n",
    "# Tools from Swarm Systems Lab simulator\n",
    "from ssl_simulator import createDir\n",
    "from ssl_simulator.math import uniform_distrib, elliptical_distrib\n",
    "from ssl_simulator.math import gen_Z_random, R_2D_matrix\n",
    "from ssl_simulator.visualization import set_paper_parameters\n",
    "\n",
    "set_paper_parameters(fontsize=12)\n",
    "\n",
    "# --------------------------------------------------------------------------------------\n",
    "\n",
    "# Python project to path \n",
    "module_path = os.path.abspath(os.path.join('..'))\n",
    "if module_path not in sys.path:\n",
    "    sys.path.append(module_path)\n",
    "\n",
    "# Import the main module of the project\n",
    "from dfc import SimulatorDistrNew, plot_resilience_paper\n",
    "\n",
    "# Output directory\n",
    "OUTPUT_PATH = os.path.join(\"..\", \"output\")\n",
    "createDir(OUTPUT_PATH)"
   ]
  },
  {
   "cell_type": "markdown",
   "metadata": {},
   "source": [
    "## Definition of C"
   ]
  },
  {
   "cell_type": "code",
   "execution_count": null,
   "metadata": {},
   "outputs": [],
   "source": [
    "# ------ Definition of C plot\n",
    "\n",
    "\n",
    "\n",
    "# Generate the distributions\n",
    "xy1 = elliptical_distrib(100, , rx=1.0, ry=1.0, h=0.0, border_noise=0.0)\n",
    "xy2 = 2\n",
    "xy3 = 3\n",
    "\n",
    "# Plot\n",
    "\n"
   ]
  },
  {
   "cell_type": "markdown",
   "metadata": {},
   "source": [
    "## SIM 1 - Resilience simulation: robots disconnect during the mission"
   ]
  },
  {
   "cell_type": "code",
   "execution_count": null,
   "metadata": {},
   "outputs": [],
   "source": [
    "# Generate the robots distribution and set the initial positions\n",
    "N = 70\n",
    "lims = [3, 1]\n",
    "rc0 = [0, 0]\n",
    "\n",
    "p0 = uniform_distrib(N=N, lims=lims, rc0=rc0, seed=2024)\n",
    "\n",
    "# Generate the graph\n",
    "Z = gen_Z_random(N, rounds=3, seed=2024)\n",
    "\n",
    "# Generating the simulator class\n",
    "dt = 0.001\n",
    "lambda_d = [10, 4]\n",
    "\n",
    "epsilon_phat = 1/4\n",
    "epsilon_chat = 1/10\n",
    "\n",
    "sim = SimulatorDistrNew(\n",
    "    p0=p0, Z=Z, dt=dt, lambda_d=lambda_d, ke=0.8, kpc=1, kc=1, \n",
    "    epsilon_phat=epsilon_phat, epsilon_chat=epsilon_chat)\n",
    "\n",
    "# Graph connectivity (lambda2)\n",
    "print(Z)\n",
    "print(r\"$\\lambda_0$:\", sim.lambda_min)"
   ]
  },
  {
   "cell_type": "code",
   "execution_count": null,
   "metadata": {},
   "outputs": [],
   "source": [
    "# ----------------------------------------------------------------------\n",
    "# Execute the simulation given a desired final time stamp\n",
    "# ----------------------------------------------------------------------\n",
    "tf = 2\n",
    "\n",
    "t_list = np.arange(0, tf, dt)\n",
    "for it in tqdm(range(len(t_list))):\n",
    "\n",
    "    # [!!] Killing robots may disconect the graph, yielding to numerical errors\n",
    "    # in the simulation (it has to be fixed)\n",
    "\n",
    "    if it > 0.3/dt:\n",
    "        sim.kill_agent(np.arange(0,5,1))\n",
    "    if it > 0.5/dt:\n",
    "        sim.kill_agent(np.arange(5,10,1))\n",
    "    if it > 1/dt:\n",
    "        sim.kill_agent(np.arange(10,15,1))\n",
    "\n",
    "    sim.int_euler()"
   ]
  },
  {
   "cell_type": "code",
   "execution_count": null,
   "metadata": {},
   "outputs": [],
   "source": [
    "# Generate the plot\n",
    "plot_resilience_paper(\n",
    "    sim, limx=11, dpi=400, figsize=(12,5.5), t_sep=0.5,\n",
    "    title=rf\"n = {N}, $\\varepsilon_\\text f$ = {epsilon_chat}, $\\varepsilon_\\text s$ = {epsilon_phat} \" +\n",
    "    rf\"$\\qquad\\qquad\\qquad\\qquad\\qquad$ $\\lambda_1^*$ = {lambda_d[0]}, $\\lambda_2^*$ = {lambda_d[1]}\")"
   ]
  },
  {
   "cell_type": "markdown",
   "metadata": {},
   "source": [
    "## SIM 2 - Resilience simulation: rotating agents"
   ]
  },
  {
   "cell_type": "code",
   "execution_count": null,
   "metadata": {},
   "outputs": [],
   "source": [
    "# Generate the robots distribution and set the initial positions\n",
    "N = 70\n",
    "lims = [3, 1]\n",
    "rc0 = [0, 0]\n",
    "\n",
    "p0 = uniform_distrib(N=N, lims=lims, rc0=rc0, seed=2024)\n",
    "\n",
    "# Generate the graph\n",
    "Z = gen_Z_random(N, rounds=3, seed=2024)\n",
    "\n",
    "# Generating the simulator class\n",
    "dt = 0.001\n",
    "lambda_d = [10, 4]\n",
    "\n",
    "epsilon_phat = 1/4\n",
    "epsilon_chat = 1/10\n",
    "\n",
    "sim = SimulatorDistrNew(\n",
    "    p0=p0, Z=Z, dt=dt, lambda_d=lambda_d, ke=0.8, kpc=1, kc=1, \n",
    "    epsilon_phat=epsilon_phat, epsilon_chat=epsilon_chat)\n",
    "\n",
    "# Graph connectivity (lambda2)\n",
    "print(Z)\n",
    "print(r\"$\\lambda_0$:\", sim.lambda_min)"
   ]
  },
  {
   "cell_type": "code",
   "execution_count": null,
   "metadata": {},
   "outputs": [],
   "source": [
    "# ----------------------------------------------------------------------\n",
    "# Execute the simulation given a desired final time stamp\n",
    "# ----------------------------------------------------------------------\n",
    "tf = 2\n",
    "\n",
    "R1 = R_2D_matrix(2*np.pi/3*2*dt)\n",
    "R2 = R_2D_matrix(2*np.pi*dt)\n",
    "R3 = R_2D_matrix(2*np.pi/2*dt)\n",
    "R4 = R_2D_matrix(2*np.pi*2*dt)\n",
    "sim.status_dyn[N-4:N] = 0\n",
    "\n",
    "t_list = np.arange(0, tf, dt)\n",
    "for it in tqdm(range(len(t_list))):\n",
    "    sim.variables[\"p\"][-1] = (R1 @ sim.variables[\"p\"][-1][:,None]).squeeze()\n",
    "    sim.variables[\"p\"][-2] = (R2 @ sim.variables[\"p\"][-2][:,None]).squeeze()\n",
    "    sim.variables[\"p\"][-3] = (R3 @ sim.variables[\"p\"][-3][:,None]).squeeze()\n",
    "    sim.variables[\"p\"][-4] = (R4 @ sim.variables[\"p\"][-4][:,None]).squeeze()\n",
    "    sim.int_euler()"
   ]
  },
  {
   "cell_type": "code",
   "execution_count": null,
   "metadata": {},
   "outputs": [],
   "source": [
    "# Generate the plot\n",
    "plot_resilience_paper(\n",
    "    sim, limx=11, dpi=400, figsize=(12,5.5), t_sep=0.5,\n",
    "    title=rf\"n = {N}, $\\varepsilon_\\text f$ = {epsilon_chat}, $\\varepsilon_\\text s$ = {epsilon_phat} \" +\n",
    "    rf\"$\\qquad\\qquad\\qquad\\qquad\\qquad$ $\\lambda_1^*$ = {lambda_d[0]}, $\\lambda_2^*$ = {lambda_d[1]}\")"
   ]
  }
 ],
 "metadata": {
  "kernelspec": {
   "display_name": "Python 3",
   "language": "python",
   "name": "python3"
  },
  "language_info": {
   "codemirror_mode": {
    "name": "ipython",
    "version": 3
   },
   "file_extension": ".py",
   "mimetype": "text/x-python",
   "name": "python",
   "nbconvert_exporter": "python",
   "pygments_lexer": "ipython3",
   "version": "3.10.12"
  }
 },
 "nbformat": 4,
 "nbformat_minor": 2
}
