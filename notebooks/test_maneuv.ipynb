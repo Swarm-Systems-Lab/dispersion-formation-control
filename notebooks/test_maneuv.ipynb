{
 "cells": [
  {
   "cell_type": "code",
   "execution_count": null,
   "metadata": {},
   "outputs": [],
   "source": [
    "import numpy as np\n",
    "import os\n",
    "import sys\n",
    "from tqdm import tqdm\n",
    "\n",
    "# Graphic tool\n",
    "import matplotlib.pyplot as plt\n",
    "\n",
    "# Animation tools\n",
    "from matplotlib.animation import FuncAnimation\n",
    "from IPython.display import HTML\n",
    "from matplotlib.animation import PillowWriter\n",
    "\n",
    "# Tools from Swarm Systems Lab simulator\n",
    "from ssl_simulator import createDir\n",
    "from ssl_simulator.math import uniform_distrib, R_2D_matrix\n",
    "\n",
    "# --------------------------------------------------------------------------------------\n",
    "\n",
    "# Python project to path \n",
    "module_path = os.path.abspath(os.path.join('..'))\n",
    "if module_path not in sys.path:\n",
    "    sys.path.append(module_path)\n",
    "\n",
    "# Import the simulator\n",
    "from dfc import Simulator\n",
    "\n",
    "# Import the plots\n",
    "from dfc.plots import plot_basic\n",
    "from dfc.animations import AnimBasic\n",
    "\n",
    "# --------------------------------------------------------------------------------------\n",
    "\n",
    "# Output directory\n",
    "OUTPUT_PATH = os.path.join(\"..\", \"output\")\n",
    "createDir(OUTPUT_PATH)"
   ]
  },
  {
   "cell_type": "markdown",
   "metadata": {},
   "source": [
    "## Rotation"
   ]
  },
  {
   "cell_type": "code",
   "execution_count": null,
   "metadata": {},
   "outputs": [],
   "source": [
    "# Generate the robots distribution and set the initial positions\n",
    "N = 70\n",
    "lims = [2, 2]\n",
    "rc0 = [0, 0]\n",
    "\n",
    "p0 = uniform_distrib(N=N, lims=lims, rc0=rc0)\n",
    "p0 = np.vstack([p0, np.array([[3,0],[-3,0]])])\n",
    "\n",
    "# Generating the simulator class\n",
    "dt = 0.01\n",
    "lambda_d = [10, 5]\n",
    "ke = 0.2\n",
    "\n",
    "sim = Simulator(p0=p0, dt=dt, lambda_d=lambda_d, ke=ke)\n",
    "\n",
    "# ----------------------------------------------------------------------\n",
    "# Execute the simulation given a desired final time stamp\n",
    "# ----------------------------------------------------------------------\n",
    "tf = 4\n",
    "\n",
    "R = R_2D_matrix(np.pi*dt)\n",
    "\n",
    "t_list = np.arange(0, tf, dt)\n",
    "for it in tqdm(range(len(t_list))):\n",
    "    sim.variables[\"p\"][-1] = (R @ sim.variables[\"p\"][-1][:,None]).squeeze()\n",
    "    sim.variables[\"p\"][-2] = (R @ sim.variables[\"p\"][-2][:,None]).squeeze()\n",
    "    sim.int_euler()"
   ]
  },
  {
   "cell_type": "code",
   "execution_count": null,
   "metadata": {},
   "outputs": [],
   "source": [
    "plot_basic(sim, lim=10)"
   ]
  },
  {
   "cell_type": "code",
   "execution_count": null,
   "metadata": {},
   "outputs": [],
   "source": [
    "animator = AnimBasic(sim, lim=10)\n",
    "\n",
    "# -- MP4 \n",
    "anim = animator.gen_animation()\n",
    "HTML(anim.to_html5_video()) # It takes a loooot of time..."
   ]
  },
  {
   "cell_type": "markdown",
   "metadata": {},
   "source": [
    "## Stretching"
   ]
  },
  {
   "cell_type": "code",
   "execution_count": null,
   "metadata": {},
   "outputs": [],
   "source": [
    "# Generate the robots distribution and set the initial positions\n",
    "N = 70\n",
    "lims = [2, 2]\n",
    "rc0 = [0, 0]\n",
    "\n",
    "p0 = uniform_distrib(N=N, lims=lims, rc0=rc0)\n",
    "\n",
    "# Generating the simulator class\n",
    "dt = 0.05\n",
    "lambda_d = [10, 5]\n",
    "ke = 0.2\n",
    "\n",
    "sim = Simulator(p0=p0, dt=dt, lambda_d=lambda_d, ke=ke)\n",
    "\n",
    "# ----------------------------------------------------------------------\n",
    "# Execute the simulation given a desired final time stamp\n",
    "# ----------------------------------------------------------------------\n",
    "tf = 20\n",
    "\n",
    "t_list = np.arange(0, tf, dt)\n",
    "for it in tqdm(range(len(t_list))):\n",
    "    sim.variables[\"p\"][-1] = sim.variables[\"p\"][-1] + 3*np.array(sim.variables[\"v1\"])*dt\n",
    "    sim.variables[\"p\"][-2] = sim.variables[\"p\"][-2] - 3*np.array(sim.variables[\"v1\"])*dt\n",
    "    sim.int_euler()"
   ]
  },
  {
   "cell_type": "code",
   "execution_count": null,
   "metadata": {},
   "outputs": [],
   "source": [
    "plot_basic(sim, lim=20)"
   ]
  },
  {
   "cell_type": "code",
   "execution_count": null,
   "metadata": {},
   "outputs": [],
   "source": [
    "animator = AnimBasic(sim, lim=20, agent_r=0.15, tail_alpha=0.3)\n",
    "\n",
    "# -- MP4 \n",
    "anim = animator.gen_animation()\n",
    "HTML(anim.to_html5_video()) # It takes a loooot of time..."
   ]
  }
 ],
 "metadata": {
  "kernelspec": {
   "display_name": "Python 3 (ipykernel)",
   "language": "python",
   "name": "python3"
  },
  "language_info": {
   "codemirror_mode": {
    "name": "ipython",
    "version": 3
   },
   "file_extension": ".py",
   "mimetype": "text/x-python",
   "name": "python",
   "nbconvert_exporter": "python",
   "pygments_lexer": "ipython3",
   "version": "3.10.12"
  },
  "orig_nbformat": 4
 },
 "nbformat": 4,
 "nbformat_minor": 2
}
